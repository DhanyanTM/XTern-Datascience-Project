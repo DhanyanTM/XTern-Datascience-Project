{
 "cells": [
  {
   "cell_type": "code",
   "execution_count": 108,
   "id": "93ea01f0",
   "metadata": {},
   "outputs": [],
   "source": [
    "# pip install geopy"
   ]
  },
  {
   "cell_type": "code",
   "execution_count": 109,
   "id": "277ec86c",
   "metadata": {},
   "outputs": [],
   "source": [
    "# pip install operator"
   ]
  },
  {
   "cell_type": "code",
   "execution_count": 55,
   "id": "7940a6e5",
   "metadata": {},
   "outputs": [],
   "source": [
    "import pandas as pd\n",
    "import numpy as np\n",
    "import geopy\n",
    "from geopy import distance\n",
    "import operator"
   ]
  },
  {
   "cell_type": "code",
   "execution_count": 12,
   "id": "34254cbb",
   "metadata": {},
   "outputs": [],
   "source": [
    "food_trucks_dataset=pd.read_excel('Downloads/Food_Trucks_dataset_Indianapolis_Xtern.xlsx')\n",
    "df_food_trucks=pd.DataFrame(food_trucks_dataset)"
   ]
  },
  {
   "cell_type": "code",
   "execution_count": 13,
   "id": "86be97ed",
   "metadata": {},
   "outputs": [
    {
     "data": {
      "text/html": [
       "<div>\n",
       "<style scoped>\n",
       "    .dataframe tbody tr th:only-of-type {\n",
       "        vertical-align: middle;\n",
       "    }\n",
       "\n",
       "    .dataframe tbody tr th {\n",
       "        vertical-align: top;\n",
       "    }\n",
       "\n",
       "    .dataframe thead th {\n",
       "        text-align: right;\n",
       "    }\n",
       "</style>\n",
       "<table border=\"1\" class=\"dataframe\">\n",
       "  <thead>\n",
       "    <tr style=\"text-align: right;\">\n",
       "      <th></th>\n",
       "      <th>Sr no</th>\n",
       "      <th>Name</th>\n",
       "      <th>Address</th>\n",
       "      <th>Zipcode</th>\n",
       "      <th>Phone</th>\n",
       "      <th>Website</th>\n",
       "      <th>Cuisines</th>\n",
       "      <th>Latitude</th>\n",
       "      <th>Longitude</th>\n",
       "      <th>Ratings</th>\n",
       "      <th>Opening hour</th>\n",
       "      <th>Closing hour</th>\n",
       "    </tr>\n",
       "  </thead>\n",
       "  <tbody>\n",
       "    <tr>\n",
       "      <th>0</th>\n",
       "      <td>1</td>\n",
       "      <td>Cluster Truck</td>\n",
       "      <td>729 North Pennsylvania Street Indianapolis, IN</td>\n",
       "      <td>46204</td>\n",
       "      <td>(317) 732-1084</td>\n",
       "      <td>www.clustertruck.com</td>\n",
       "      <td>American</td>\n",
       "      <td>39.794471</td>\n",
       "      <td>-86.156289</td>\n",
       "      <td>4.8</td>\n",
       "      <td>8</td>\n",
       "      <td>22</td>\n",
       "    </tr>\n",
       "    <tr>\n",
       "      <th>1</th>\n",
       "      <td>2</td>\n",
       "      <td>General American Donut Company</td>\n",
       "      <td>827 South East Street Indianapolis, IN</td>\n",
       "      <td>46225</td>\n",
       "      <td>(317) 379-7293</td>\n",
       "      <td>generalamericandonutco.com</td>\n",
       "      <td>Breakfast</td>\n",
       "      <td>39.755668</td>\n",
       "      <td>-86.149119</td>\n",
       "      <td>4.0</td>\n",
       "      <td>10</td>\n",
       "      <td>18</td>\n",
       "    </tr>\n",
       "    <tr>\n",
       "      <th>2</th>\n",
       "      <td>3</td>\n",
       "      <td>Johnsons BBQ Shack</td>\n",
       "      <td>Indianapolis, IN</td>\n",
       "      <td>46204</td>\n",
       "      <td>(317) 716-8889</td>\n",
       "      <td>www.johnsonsbbqshack.com</td>\n",
       "      <td>BBQ</td>\n",
       "      <td>39.524465</td>\n",
       "      <td>-86.168535</td>\n",
       "      <td>4.5</td>\n",
       "      <td>10</td>\n",
       "      <td>18</td>\n",
       "    </tr>\n",
       "    <tr>\n",
       "      <th>3</th>\n",
       "      <td>4</td>\n",
       "      <td>Spice Box</td>\n",
       "      <td>222 East Market Street Booth 3 Indianapolis</td>\n",
       "      <td>46204</td>\n",
       "      <td>Unavailable</td>\n",
       "      <td>spiceboxindy.com</td>\n",
       "      <td>Indian</td>\n",
       "      <td>39.770235</td>\n",
       "      <td>-86.153376</td>\n",
       "      <td>4.3</td>\n",
       "      <td>10</td>\n",
       "      <td>20</td>\n",
       "    </tr>\n",
       "    <tr>\n",
       "      <th>4</th>\n",
       "      <td>5</td>\n",
       "      <td>Felix Tacos Truck</td>\n",
       "      <td>3145 W Washington St, Indianapolis, IN</td>\n",
       "      <td>46222</td>\n",
       "      <td>(347)489-5554</td>\n",
       "      <td>Unavailable</td>\n",
       "      <td>Mexican</td>\n",
       "      <td>39.773102</td>\n",
       "      <td>-86.211039</td>\n",
       "      <td>4.5</td>\n",
       "      <td>17</td>\n",
       "      <td>24</td>\n",
       "    </tr>\n",
       "    <tr>\n",
       "      <th>5</th>\n",
       "      <td>6</td>\n",
       "      <td>La Marina Maxican Food Truck</td>\n",
       "      <td>7155 Madison Ave, Indianapolis, IN</td>\n",
       "      <td>46227</td>\n",
       "      <td>Unavailable</td>\n",
       "      <td>Unavailable</td>\n",
       "      <td>Mexican</td>\n",
       "      <td>39.673286</td>\n",
       "      <td>-86.125208</td>\n",
       "      <td>4.0</td>\n",
       "      <td>16</td>\n",
       "      <td>22</td>\n",
       "    </tr>\n",
       "    <tr>\n",
       "      <th>6</th>\n",
       "      <td>7</td>\n",
       "      <td>Tortas Guicho Food Truck</td>\n",
       "      <td>S. East St and, Fletcher Ave, Indianapolis, IN</td>\n",
       "      <td>46204</td>\n",
       "      <td>Unavailable</td>\n",
       "      <td>ordertortasguichodominguez.com</td>\n",
       "      <td>Mexican</td>\n",
       "      <td>39.773630</td>\n",
       "      <td>-86.152674</td>\n",
       "      <td>4.5</td>\n",
       "      <td>8</td>\n",
       "      <td>14</td>\n",
       "    </tr>\n",
       "    <tr>\n",
       "      <th>7</th>\n",
       "      <td>8</td>\n",
       "      <td>Pico de Gallo Food truck</td>\n",
       "      <td>3014 Lafayette Rd #3000, Indianapolis, IN</td>\n",
       "      <td>46222</td>\n",
       "      <td>(317)658-6970</td>\n",
       "      <td>Unavailable</td>\n",
       "      <td>Mexican</td>\n",
       "      <td>39.819864</td>\n",
       "      <td>-86.217831</td>\n",
       "      <td>4.5</td>\n",
       "      <td>17</td>\n",
       "      <td>1</td>\n",
       "    </tr>\n",
       "    <tr>\n",
       "      <th>8</th>\n",
       "      <td>9</td>\n",
       "      <td>Big Jerry Indy Food truck</td>\n",
       "      <td>8522 Madison Ave, Indianapolis, IN</td>\n",
       "      <td>46227</td>\n",
       "      <td>(317)331-9921</td>\n",
       "      <td>Unavailable</td>\n",
       "      <td>American</td>\n",
       "      <td>39.656372</td>\n",
       "      <td>-86.116282</td>\n",
       "      <td>5.0</td>\n",
       "      <td>11</td>\n",
       "      <td>19</td>\n",
       "    </tr>\n",
       "    <tr>\n",
       "      <th>9</th>\n",
       "      <td>10</td>\n",
       "      <td>Mi Lindo Penjamo</td>\n",
       "      <td>7910 Michigan Rd, Indianapolis, IN</td>\n",
       "      <td>46268</td>\n",
       "      <td>(317)431-4439</td>\n",
       "      <td>store.kahero.co/milindopenjamo</td>\n",
       "      <td>Mexican</td>\n",
       "      <td>39.918624</td>\n",
       "      <td>-86.220147</td>\n",
       "      <td>4.5</td>\n",
       "      <td>19</td>\n",
       "      <td>24</td>\n",
       "    </tr>\n",
       "    <tr>\n",
       "      <th>10</th>\n",
       "      <td>11</td>\n",
       "      <td>Fiesta on the go</td>\n",
       "      <td>2719 E 38th St, Indianapolis, IN</td>\n",
       "      <td>46218</td>\n",
       "      <td>Unavailable</td>\n",
       "      <td>Unavailable</td>\n",
       "      <td>Mexican</td>\n",
       "      <td>39.830135</td>\n",
       "      <td>-86.120369</td>\n",
       "      <td>4.0</td>\n",
       "      <td>16</td>\n",
       "      <td>22</td>\n",
       "    </tr>\n",
       "    <tr>\n",
       "      <th>11</th>\n",
       "      <td>12</td>\n",
       "      <td>Birrieria Iturbidense</td>\n",
       "      <td>Lot Food Truck, 6302 W Washington St, Indianap...</td>\n",
       "      <td>46241</td>\n",
       "      <td>(317)828-3558</td>\n",
       "      <td>Unavailable</td>\n",
       "      <td>Mexican</td>\n",
       "      <td>39.751798</td>\n",
       "      <td>-86.265897</td>\n",
       "      <td>4.7</td>\n",
       "      <td>18</td>\n",
       "      <td>24</td>\n",
       "    </tr>\n",
       "  </tbody>\n",
       "</table>\n",
       "</div>"
      ],
      "text/plain": [
       "    Sr no                            Name  \\\n",
       "0       1                   Cluster Truck   \n",
       "1       2  General American Donut Company   \n",
       "2       3              Johnsons BBQ Shack   \n",
       "3       4                       Spice Box   \n",
       "4       5               Felix Tacos Truck   \n",
       "5       6    La Marina Maxican Food Truck   \n",
       "6       7        Tortas Guicho Food Truck   \n",
       "7       8        Pico de Gallo Food truck   \n",
       "8       9       Big Jerry Indy Food truck   \n",
       "9      10                Mi Lindo Penjamo   \n",
       "10     11                Fiesta on the go   \n",
       "11     12           Birrieria Iturbidense   \n",
       "\n",
       "                                              Address  Zipcode  \\\n",
       "0      729 North Pennsylvania Street Indianapolis, IN    46204   \n",
       "1              827 South East Street Indianapolis, IN    46225   \n",
       "2                                   Indianapolis, IN     46204   \n",
       "3         222 East Market Street Booth 3 Indianapolis    46204   \n",
       "4             3145 W Washington St, Indianapolis, IN     46222   \n",
       "5                  7155 Madison Ave, Indianapolis, IN    46227   \n",
       "6     S. East St and, Fletcher Ave, Indianapolis, IN     46204   \n",
       "7           3014 Lafayette Rd #3000, Indianapolis, IN    46222   \n",
       "8                 8522 Madison Ave, Indianapolis, IN     46227   \n",
       "9                 7910 Michigan Rd, Indianapolis, IN     46268   \n",
       "10                  2719 E 38th St, Indianapolis, IN     46218   \n",
       "11  Lot Food Truck, 6302 W Washington St, Indianap...    46241   \n",
       "\n",
       "             Phone                         Website   Cuisines   Latitude  \\\n",
       "0   (317) 732-1084            www.clustertruck.com   American  39.794471   \n",
       "1   (317) 379-7293      generalamericandonutco.com  Breakfast  39.755668   \n",
       "2   (317) 716-8889        www.johnsonsbbqshack.com        BBQ  39.524465   \n",
       "3      Unavailable                spiceboxindy.com     Indian  39.770235   \n",
       "4    (347)489-5554                     Unavailable    Mexican  39.773102   \n",
       "5      Unavailable                     Unavailable    Mexican  39.673286   \n",
       "6      Unavailable  ordertortasguichodominguez.com    Mexican  39.773630   \n",
       "7    (317)658-6970                     Unavailable    Mexican  39.819864   \n",
       "8    (317)331-9921                     Unavailable   American  39.656372   \n",
       "9    (317)431-4439  store.kahero.co/milindopenjamo    Mexican  39.918624   \n",
       "10     Unavailable                     Unavailable    Mexican  39.830135   \n",
       "11   (317)828-3558                     Unavailable    Mexican  39.751798   \n",
       "\n",
       "    Longitude  Ratings  Opening hour  Closing hour  \n",
       "0  -86.156289      4.8             8            22  \n",
       "1  -86.149119      4.0            10            18  \n",
       "2  -86.168535      4.5            10            18  \n",
       "3  -86.153376      4.3            10            20  \n",
       "4  -86.211039      4.5            17            24  \n",
       "5  -86.125208      4.0            16            22  \n",
       "6  -86.152674      4.5             8            14  \n",
       "7  -86.217831      4.5            17             1  \n",
       "8  -86.116282      5.0            11            19  \n",
       "9  -86.220147      4.5            19            24  \n",
       "10 -86.120369      4.0            16            22  \n",
       "11 -86.265897      4.7            18            24  "
      ]
     },
     "execution_count": 13,
     "metadata": {},
     "output_type": "execute_result"
    }
   ],
   "source": [
    "df_food_trucks"
   ]
  },
  {
   "cell_type": "markdown",
   "id": "f530a66f",
   "metadata": {},
   "source": [
    "## Since Cluster Truck opens at 8 am and is also rated at 4.8, we start our tour from there"
   ]
  },
  {
   "cell_type": "code",
   "execution_count": 17,
   "id": "08bb51c9",
   "metadata": {},
   "outputs": [],
   "source": [
    "Food_trucks=list(df_food_trucks['Name'])\n",
    "latitudes=list(df_food_trucks['Latitude'])\n",
    "longitudes=list(df_food_trucks['Longitude'])"
   ]
  },
  {
   "cell_type": "code",
   "execution_count": 42,
   "id": "77482e84",
   "metadata": {},
   "outputs": [],
   "source": [
    "def slope_calculator(lat_1,long_1,lat_2, long_2):\n",
    "    #slope of a line , m = (y2-y1)/(x2-x1)\n",
    "    #For small distances, the curvature of the earth can be ignored and latitude & longitude can be taken as coordinates on XY plane\n",
    "    return (long_2-long_1)/(lat_2-lat_1)\n",
    "    "
   ]
  },
  {
   "cell_type": "code",
   "execution_count": 45,
   "id": "c2ee99b4",
   "metadata": {},
   "outputs": [
    {
     "data": {
      "text/plain": [
       "-0.18477703566138062"
      ]
     },
     "execution_count": 45,
     "metadata": {},
     "output_type": "execute_result"
    }
   ],
   "source": [
    "slope_calculator(39.7944707585175, -86.1562887527601,39.7556679639579, -86.149118887406)"
   ]
  },
  {
   "cell_type": "code",
   "execution_count": 39,
   "id": "2bfcfab8",
   "metadata": {},
   "outputs": [
    {
     "data": {
      "text/plain": [
       "tuple"
      ]
     },
     "execution_count": 39,
     "metadata": {},
     "output_type": "execute_result"
    }
   ],
   "source": [
    "type((39.7556679639579, -86.149118887406))"
   ]
  },
  {
   "cell_type": "code",
   "execution_count": 104,
   "id": "7f14d490",
   "metadata": {},
   "outputs": [],
   "source": [
    "def Identify_top_5_closest (first_stop_name, df_food_trucks):\n",
    "    distances_from_first_stop=[]\n",
    "    first_stop= (df_food_trucks['Latitude'][df_food_trucks['Name']==first_stop_name].iloc[0],df_food_trucks['Longitude'][df_food_trucks['Name']==first_stop_name].iloc[0] )\n",
    "    \n",
    "    for i in range (0, len(df_food_trucks)):\n",
    "        location_coordinates=(latitudes[i], longitudes[i])\n",
    "        distances_from_first_stop.append (distance.distance(first_stop, location_coordinates).miles)\n",
    "    name_vs_distance_dict={}\n",
    "    for i in range(len(Food_trucks)):\n",
    "        name_vs_distance_dict[Food_trucks[i]]=distances_from_first_stop[i]\n",
    "    return sorted(name_vs_distance_dict.items(), key=operator.itemgetter(1))[1:6]\n"
   ]
  },
  {
   "cell_type": "code",
   "execution_count": 98,
   "id": "b09f4dcb",
   "metadata": {},
   "outputs": [],
   "source": [
    "distances_from_cluster_truck=[]\n",
    "cluster_truck=(39.7944707585175, -86.1562887527601)\n",
    "\n",
    "#tour_start_time = 9 am\n",
    "\n",
    "for i in range (0, len(df_food_trucks)):\n",
    "    location_coordinates=(latitudes[i], longitudes[i])\n",
    "    distances_from_cluster_truck.append (distance.distance(cluster_truck, location_coordinates).miles)\n",
    "    \n",
    "name_vs_distance_dict={}\n",
    "for i in range(len(Food_trucks)):\n",
    "    name_vs_distance_dict[Food_trucks[i]]=distances_from_cluster_truck[i]\n",
    "top_5_nearest_food_trucks = sorted(name_vs_distance_dict.items(), key=operator.itemgetter(1))[1:6]\n"
   ]
  },
  {
   "cell_type": "code",
   "execution_count": 66,
   "id": "0208b41d",
   "metadata": {},
   "outputs": [
    {
     "data": {
      "text/plain": [
       "[('Tortas Guicho Food Truck', 1.4506468656720062),\n",
       " ('Spice Box', 1.679239546442854),\n",
       " ('General American Donut Company', 2.70411829382776),\n",
       " ('Fiesta on the go', 3.1155716312108934),\n",
       " ('Felix Tacos Truck', 3.265930354667434)]"
      ]
     },
     "execution_count": 66,
     "metadata": {},
     "output_type": "execute_result"
    }
   ],
   "source": [
    "top_5_nearest_food_trucks"
   ]
  },
  {
   "cell_type": "markdown",
   "id": "0c72bf32",
   "metadata": {},
   "source": [
    "### Since Tortas Guicho Food Truck is the closest and is operational until 2 pm, we head there next. We assume that at each stop, we spend 2 hours. "
   ]
  },
  {
   "cell_type": "markdown",
   "id": "2eac266d",
   "metadata": {},
   "source": [
    "### Cluster Truck ---> Tortas Guicho Food Truck"
   ]
  },
  {
   "cell_type": "markdown",
   "id": "e0e02760",
   "metadata": {},
   "source": [
    "### Now, it makes sense to have minimum deviation in the direction when we go from the second food truck to the third\n",
    "### We ensure that by taking the slope of the line that connect stop1 & stop2 and choose the third one based on min slope difference"
   ]
  },
  {
   "cell_type": "code",
   "execution_count": 71,
   "id": "48d3d574",
   "metadata": {},
   "outputs": [
    {
     "data": {
      "text/plain": [
       "-0.17343907649373067"
      ]
     },
     "execution_count": 71,
     "metadata": {},
     "output_type": "execute_result"
    }
   ],
   "source": [
    "#slope of the line joining stop 1 & stop 2\n",
    "slope_calculator(39.7944707585175, -86.1562887527601, 39.7736299481022, -86.1526741418483)"
   ]
  },
  {
   "cell_type": "code",
   "execution_count": 86,
   "id": "e0957c0a",
   "metadata": {},
   "outputs": [],
   "source": [
    "#The third stop should follow two conditions:\n",
    "# 1) The distance from 2 to 3 should be amongst the top 5 minimum possible options\n",
    "# 2) Food Truck 3 should be open when we get there"
   ]
  },
  {
   "cell_type": "code",
   "execution_count": 87,
   "id": "78c89174",
   "metadata": {},
   "outputs": [
    {
     "data": {
      "text/plain": [
       "[('Spice Box', 0.2371901647576048),\n",
       " ('General American Donut Company', 1.2535877361278533),\n",
       " ('Cluster Truck', 1.4506468656720062),\n",
       " ('Felix Tacos Truck', 3.1073419702599474),\n",
       " ('Fiesta on the go', 4.260588644048227)]"
      ]
     },
     "execution_count": 87,
     "metadata": {},
     "output_type": "execute_result"
    }
   ],
   "source": [
    "Identify_top_5_closest('Tortas Guicho Food Truck', df_food_trucks)"
   ]
  },
  {
   "cell_type": "code",
   "execution_count": 81,
   "id": "8eb47bb1",
   "metadata": {},
   "outputs": [
    {
     "data": {
      "text/plain": [
       "39.7736299481022"
      ]
     },
     "execution_count": 81,
     "metadata": {},
     "output_type": "execute_result"
    }
   ],
   "source": [
    "df_food_trucks['Latitude'][df_food_trucks['Name']=='Tortas Guicho Food Truck'].iloc[0]"
   ]
  },
  {
   "cell_type": "markdown",
   "id": "6883cd78",
   "metadata": {},
   "source": [
    "### Next, we head to Spice Box by walk as its less than 0.3 miles and is in operation at 1 pm\n",
    "\n",
    "### Cluster Truck ---> Tortas Guicho Food Truck ----> Spice Box"
   ]
  },
  {
   "cell_type": "code",
   "execution_count": 85,
   "id": "5ec3c9e6",
   "metadata": {},
   "outputs": [
    {
     "data": {
      "text/plain": [
       "[('Tortas Guicho Food Truck', 0.2371901647576048),\n",
       " ('General American Donut Company', 1.0302196527037202),\n",
       " ('Cluster Truck', 1.679239546442854),\n",
       " ('Felix Tacos Truck', 3.0762335389574935),\n",
       " ('Fiesta on the go', 4.490389918247281)]"
      ]
     },
     "execution_count": 85,
     "metadata": {},
     "output_type": "execute_result"
    }
   ],
   "source": [
    "Identify_top_5_closest('Spice Box', df_food_trucks)"
   ]
  },
  {
   "cell_type": "markdown",
   "id": "cb497c85",
   "metadata": {},
   "source": [
    "### Day_1 : Cluster Truck ---> Tortas Guicho Food Truck ----> Spice Box ---> General American Donut Company"
   ]
  },
  {
   "cell_type": "code",
   "execution_count": 91,
   "id": "04bceac2",
   "metadata": {},
   "outputs": [
    {
     "data": {
      "text/plain": [
       "[('Pico de Gallo Food truck', 6.81474622379365),\n",
       " ('Fiesta on the go', 8.087264983744033),\n",
       " ('Cluster Truck', 9.214010595248467),\n",
       " ('Felix Tacos Truck', 10.051475030085294),\n",
       " ('Tortas Guicho Food Truck', 10.627465659621294)]"
      ]
     },
     "execution_count": 91,
     "metadata": {},
     "output_type": "execute_result"
    }
   ],
   "source": [
    "Identify_top_5_closest('Mi Lindo Penjamo', df_food_trucks)"
   ]
  },
  {
   "cell_type": "code",
   "execution_count": null,
   "id": "22e2af1c",
   "metadata": {},
   "outputs": [],
   "source": []
  },
  {
   "cell_type": "code",
   "execution_count": 95,
   "id": "dabb180f",
   "metadata": {},
   "outputs": [
    {
     "data": {
      "text/plain": [
       "[('Spice Box', 3.0762335389574935),\n",
       " ('Tortas Guicho Food Truck', 3.1073419702599474),\n",
       " ('Pico de Gallo Food truck', 3.2463521391082653),\n",
       " ('Cluster Truck', 3.265930354667434),\n",
       " ('Birrieria Iturbidense', 3.2698464420088604)]"
      ]
     },
     "execution_count": 95,
     "metadata": {},
     "output_type": "execute_result"
    }
   ],
   "source": [
    "Identify_top_5_closest('Felix Tacos Truck', df_food_trucks)"
   ]
  },
  {
   "cell_type": "code",
   "execution_count": 101,
   "id": "6ebdae8a",
   "metadata": {},
   "outputs": [
    {
     "data": {
      "text/plain": [
       "[('Spice Box', 0.2371901647576048),\n",
       " ('General American Donut Company', 1.2535877361278533),\n",
       " ('Cluster Truck', 1.4506468656720062),\n",
       " ('Felix Tacos Truck', 3.1073419702599474),\n",
       " ('Fiesta on the go', 4.260588644048227),\n",
       " ('Pico de Gallo Food truck', 4.711527621068245),\n",
       " ('Birrieria Iturbidense', 6.213792390798383)]"
      ]
     },
     "execution_count": 101,
     "metadata": {},
     "output_type": "execute_result"
    }
   ],
   "source": [
    "Identify_top_5_closest('Tortas Guicho Food Truck', df_food_trucks)"
   ]
  },
  {
   "cell_type": "code",
   "execution_count": null,
   "id": "deacad13",
   "metadata": {},
   "outputs": [],
   "source": []
  },
  {
   "cell_type": "markdown",
   "id": "5b1cc846",
   "metadata": {},
   "source": [
    "### On Day 2, we start at 4 pm and proceed to visit food trucks through the evening"
   ]
  },
  {
   "cell_type": "code",
   "execution_count": 105,
   "id": "5fea07b6",
   "metadata": {},
   "outputs": [
    {
     "data": {
      "text/plain": [
       "[('Felix Tacos Truck', 3.2463521391082653),\n",
       " ('Cluster Truck', 3.713879287830699),\n",
       " ('Tortas Guicho Food Truck', 4.711527621068245),\n",
       " ('Spice Box', 4.8467272040211755),\n",
       " ('Fiesta on the go', 5.232858025379438)]"
      ]
     },
     "execution_count": 105,
     "metadata": {},
     "output_type": "execute_result"
    }
   ],
   "source": [
    "Identify_top_5_closest('Pico de Gallo Food truck', df_food_trucks)"
   ]
  },
  {
   "cell_type": "code",
   "execution_count": 106,
   "id": "4848bdf1",
   "metadata": {},
   "outputs": [
    {
     "data": {
      "text/plain": [
       "[('Spice Box', 3.0762335389574935),\n",
       " ('Tortas Guicho Food Truck', 3.1073419702599474),\n",
       " ('Pico de Gallo Food truck', 3.2463521391082653),\n",
       " ('Cluster Truck', 3.265930354667434),\n",
       " ('Birrieria Iturbidense', 3.2698464420088604)]"
      ]
     },
     "execution_count": 106,
     "metadata": {},
     "output_type": "execute_result"
    }
   ],
   "source": [
    "Identify_top_5_closest('Felix Tacos Truck', df_food_trucks)"
   ]
  },
  {
   "cell_type": "code",
   "execution_count": 107,
   "id": "a4d211b0",
   "metadata": {},
   "outputs": [
    {
     "data": {
      "text/plain": [
       "[('Felix Tacos Truck', 3.2698464420088604),\n",
       " ('Pico de Gallo Food truck', 5.347656288465831),\n",
       " ('Spice Box', 6.124816071922045),\n",
       " ('Tortas Guicho Food Truck', 6.213792390798383),\n",
       " ('General American Donut Company', 6.224308326392008)]"
      ]
     },
     "execution_count": 107,
     "metadata": {},
     "output_type": "execute_result"
    }
   ],
   "source": [
    "Identify_top_5_closest('Birrieria Iturbidense', df_food_trucks)"
   ]
  },
  {
   "cell_type": "markdown",
   "id": "5906f4a5",
   "metadata": {},
   "source": [
    "## Day_2: Pico de Gallo ---> Felix Tacos Truck ---> Birrieria Iturbidense"
   ]
  },
  {
   "cell_type": "code",
   "execution_count": null,
   "id": "061cda66",
   "metadata": {},
   "outputs": [],
   "source": []
  }
 ],
 "metadata": {
  "kernelspec": {
   "display_name": "Python 3 (ipykernel)",
   "language": "python",
   "name": "python3"
  },
  "language_info": {
   "codemirror_mode": {
    "name": "ipython",
    "version": 3
   },
   "file_extension": ".py",
   "mimetype": "text/x-python",
   "name": "python",
   "nbconvert_exporter": "python",
   "pygments_lexer": "ipython3",
   "version": "3.11.4"
  }
 },
 "nbformat": 4,
 "nbformat_minor": 5
}
